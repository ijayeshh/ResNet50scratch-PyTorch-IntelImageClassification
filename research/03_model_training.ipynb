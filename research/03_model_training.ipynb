{
 "cells": [
  {
   "cell_type": "code",
   "execution_count": 1,
   "metadata": {},
   "outputs": [],
   "source": [
    "import os"
   ]
  },
  {
   "cell_type": "code",
   "execution_count": 2,
   "metadata": {},
   "outputs": [],
   "source": [
    "os.chdir(\"../\")"
   ]
  },
  {
   "cell_type": "code",
   "execution_count": 3,
   "metadata": {},
   "outputs": [],
   "source": [
    "from dataclasses import dataclass\n",
    "from pathlib import Path\n",
    "\n",
    "\n",
    "@dataclass(frozen=False)\n",
    "class TrainingConfig:\n",
    "    root_dir: Path\n",
    "    trained_model_path: Path\n",
    "    resnet_model_path: Path\n",
    "    training_data: Path\n",
    "    test_data: Path\n",
    "    params_epochs: int\n",
    "    params_batch_size: int\n",
    "    params_is_augmentation: bool\n",
    "    params_image_size: list"
   ]
  },
  {
   "cell_type": "code",
   "execution_count": 4,
   "metadata": {},
   "outputs": [],
   "source": [
    "from IntelImageClassification.constants import *\n",
    "from IntelImageClassification.utils.common import read_yaml,create_directories\n",
    "import torch\n",
    "import torch.nn as nn\n",
    "from torchvision import transforms, datasets\n",
    "from torchsummary import summary\n",
    "from torch.utils.data import Dataset, DataLoader\n",
    "from torch.utils.data.sampler import SubsetRandomSampler\n",
    "import numpy as np\n",
    "import os\n",
    "from pathlib import Path\n",
    "import random\n",
    "from PIL import Image\n",
    "from PIL import Image\n",
    "import warnings\n",
    "warnings.filterwarnings('ignore')\n",
    "\n"
   ]
  },
  {
   "cell_type": "code",
   "execution_count": 5,
   "metadata": {},
   "outputs": [],
   "source": [
    "class ConfigurationManager:\n",
    "    def __init__(\n",
    "        self,\n",
    "        config_filepath = CONFIG_FILE_PATH,\n",
    "        params_filepath = PARAMS_FILE_PATH):\n",
    "\n",
    "        self.config = read_yaml(config_filepath)\n",
    "        self.params = read_yaml(params_filepath)\n",
    "\n",
    "        create_directories([self.config.artifacts_root])\n",
    "\n",
    "\n",
    "    \n",
    "    def get_training_config(self) -> TrainingConfig:\n",
    "        training = self.config.training\n",
    "        prepare_resnet_model = self.config.prepare_resnet_model\n",
    "        params = self.params\n",
    "        training_data = os.path.join(self.config.data_ingestion.unzip_dir, \"seg_train\",\"seg_train\")\n",
    "        print(training_data)\n",
    "        test_data=os.path.join(self.config.data_ingestion.unzip_dir, \"seg_test\",\"seg_test\")\n",
    "        print(test_data)\n",
    "        create_directories([\n",
    "            Path(training.root_dir)\n",
    "        ])\n",
    "\n",
    "        training_config = TrainingConfig(\n",
    "            root_dir=Path(training.root_dir),\n",
    "            trained_model_path=Path(training.trained_model_path),\n",
    "            resnet_model_path=Path(prepare_resnet_model.resnet_model_path),\n",
    "            training_data=Path(training_data),\n",
    "            test_data=Path(test_data),\n",
    "            params_epochs=params.EPOCHS,\n",
    "            params_batch_size=params.BATCH_SIZE,\n",
    "            params_is_augmentation=params.AUGMENTATION,\n",
    "            params_image_size=params.IMAGE_SIZE\n",
    "        )\n",
    "\n",
    "        return training_config"
   ]
  },
  {
   "cell_type": "code",
   "execution_count": null,
   "metadata": {},
   "outputs": [],
   "source": [
    "class Training:\n",
    "    def __init__(self,config:TrainingConfig):\n",
    "        self.config=config\n",
    "    \n",
    "    def get_resnet_model(self):\n",
    "        self.model=torch.load(self.config.resnet_model_path).to(torch.device('cuda'))\n",
    "    \n",
    "    def train_valid_generator(self):\n",
    "        self.training_data=datasets.ImageFolder(root=self.config.training_data,transform=transforms.Compose([\n",
    "        transforms.Resize(size=(150 , 150)) ,\n",
    "        transforms.RandomCrop(size=(150,150)),  \n",
    "        transforms.ToTensor(),\n",
    "        transforms.Normalize(mean=[0.5], std=[0.5])]))\n",
    "        self.test_data=datasets.ImageFolder(root=self.config.test_data , transform = transforms.Compose([\n",
    "        transforms.Resize((150, 150)), \n",
    "        transforms.ToTensor(),\n",
    "        transforms.Normalize(mean=[0.5], std=[0.5])]))\n",
    "    \n",
    "    def class_finder(self):\n",
    "        self.classes = sorted(i.name for i in os.scandir(self.config.training_data) if i.is_dir())\n",
    "        if not self.classes:\n",
    "            raise FileNotFoundError(f'This directory dose not have any classes : {self.training_data}')\n",
    "        self.class_to_inx = {name : value for name , value in enumerate(self.classes) }\n",
    "    \n",
    "\n",
    "    def dataloaders(self):\n",
    "        self.number_train=len(self.training_data)\n",
    "        self.indx = list(range(self.number_train))\n",
    "        np.random.shuffle(self.indx)\n",
    "        self.split = int(0.10 * self.number_train)\n",
    "        train_idx, valid_idx = self.indx[self.split:], self.indx[:self.split]\n",
    "        train_sampler = SubsetRandomSampler(train_idx)\n",
    "        valid_sampler = SubsetRandomSampler(valid_idx)\n",
    "        self.train_dataloader=DataLoader(dataset= self.training_data , \n",
    "                              batch_size= 32 ,  \n",
    "                              num_workers=0,\n",
    "                              sampler=train_sampler)\n",
    "        self.valid_dataloader = DataLoader(dataset=self.training_data , \n",
    "                             batch_size=32 , \n",
    "                             num_workers=0,\n",
    "                             sampler=valid_sampler                            \n",
    "                             )\n",
    "        self.test_dataloader = DataLoader(dataset=self.test_data,\n",
    "                            batch_size=32,\n",
    "                            num_workers=0,\n",
    "                            shuffle=False)\n",
    "        \n",
    "    def train_model(self):\n",
    "        self.criterion=nn.CrossEntropyLoss()\n",
    "        self.optimizer = torch.optim.Adam(self.model.parameters(), lr=0.01)\n",
    "        self.epochs=1\n",
    "        self.train_samples_num = 12630\n",
    "        self.val_samples_num = 1404\n",
    "        self.train_costs=[]\n",
    "        self.val_costs=[]\n",
    "        self.device = 'cuda' if torch.cuda.is_available() else 'cpu'\n",
    "\n",
    "\n",
    "\n",
    "        for epoch in range(self.epochs):\n",
    "\n",
    "            train_running_loss = 0\n",
    "            correct_train = 0\n",
    "        \n",
    "            self.model.train().cuda()\n",
    "        \n",
    "            for inputs, labels in self.train_dataloader:\n",
    "                inputs, labels = inputs.to(self.device), labels.to(self.device)\n",
    "            \n",
    "                self.optimizer.zero_grad()\n",
    "                prediction = self.model(inputs)\n",
    "                        \n",
    "                loss = self.criterion(prediction, labels)\n",
    "          \n",
    "                loss.backward()         \n",
    "                self.optimizer.step()\n",
    "                _, predicted_outputs = torch.max(prediction.data, 1)\n",
    "                correct_train += (predicted_outputs == labels).float().sum().item()\n",
    "                train_running_loss += (loss.data.item() * inputs.shape[0])\n",
    "\n",
    "\n",
    "            train_epoch_loss = train_running_loss / self.train_samples_num\n",
    "        \n",
    "            self.train_costs.append(train_epoch_loss)\n",
    "        \n",
    "            train_acc =  correct_train / self.train_samples_num\n",
    "            val_running_loss = 0\n",
    "            correct_val = 0\n",
    "      \n",
    "            self.model.eval().cuda()\n",
    "    \n",
    "            with torch.no_grad():\n",
    "                for inputs, labels in self.valid_dataloader:\n",
    "                    inputs, labels = inputs.to(self.device), labels.to(self.device)\n",
    "                    prediction = self.model(inputs)\n",
    "                    loss = self.criterion(prediction, labels)\n",
    "                    _, predicted_outputs = torch.max(prediction.data, 1)\n",
    "                    correct_val += (predicted_outputs == labels).float().sum().item()\n",
    "\n",
    "                val_running_loss += (loss.data.item() * inputs.shape[0])\n",
    "\n",
    "                val_epoch_loss = val_running_loss / self.val_samples_num\n",
    "                self.val_costs.append(val_epoch_loss)\n",
    "                val_acc =  correct_val / self.val_samples_num\n",
    "        \n",
    "            info = \"[Epoch {}/{}]: train-loss = {:0.6f} | train-acc = {:0.3f} | val-loss = {:0.6f} | val-acc = {:0.3f}\"\n",
    "        \n",
    "            print(info.format(epoch+1, self.epochs, train_epoch_loss, train_acc, val_epoch_loss, val_acc))\n",
    "        \n",
    "            torch.save(self.model.state_dict(), 'checkpoint_gpu_{}'.format(epoch + 1)) \n",
    "                                                                \n",
    "        torch.save(self.model.state_dict(), Path('artifacts/training/resnet-50_weights_gpu'))  \n",
    "        \n",
    "        return self.train_costs, self.val_costs\n",
    "\n",
    "    \n",
    "        \n",
    "\n",
    "\n",
    "\n",
    "\n",
    "\n",
    "\n",
    "\n",
    "        \n",
    "\n",
    "\n",
    "        \n",
    "        \n",
    "\n",
    "\n",
    "        \n",
    "    \n",
    "        \n",
    "    \n",
    "    \n"
   ]
  },
  {
   "cell_type": "code",
   "execution_count": 7,
   "metadata": {},
   "outputs": [
    {
     "name": "stdout",
     "output_type": "stream",
     "text": [
      "[2025-02-15 13:03:12,528: INFO: common: yaml file: config\\config.yaml loaded successfully]\n",
      "[2025-02-15 13:03:12,530: INFO: common: yaml file: params.yaml loaded successfully]\n",
      "[2025-02-15 13:03:12,531: INFO: common: created directory at: artifacts]\n",
      "artifacts/data_ingestion\\seg_train\\seg_train\n",
      "artifacts/data_ingestion\\seg_test\\seg_test\n",
      "[2025-02-15 13:03:12,533: INFO: common: created directory at: artifacts\\training]\n"
     ]
    }
   ],
   "source": [
    "config = ConfigurationManager()\n",
    "training_config = config.get_training_config()\n",
    "training = Training(config=training_config)"
   ]
  },
  {
   "cell_type": "code",
   "execution_count": 8,
   "metadata": {},
   "outputs": [],
   "source": [
    "training.get_resnet_model()"
   ]
  },
  {
   "cell_type": "code",
   "execution_count": 9,
   "metadata": {},
   "outputs": [],
   "source": [
    "training.train_valid_generator()"
   ]
  },
  {
   "cell_type": "code",
   "execution_count": 10,
   "metadata": {},
   "outputs": [
    {
     "data": {
      "text/plain": [
       "Dataset ImageFolder\n",
       "    Number of datapoints: 14034\n",
       "    Root location: artifacts\\data_ingestion\\seg_train\\seg_train\n",
       "    StandardTransform\n",
       "Transform: Compose(\n",
       "               Resize(size=(150, 150), interpolation=bilinear, max_size=None, antialias=warn)\n",
       "               RandomCrop(size=(150, 150), padding=None)\n",
       "               ToTensor()\n",
       "               Normalize(mean=[0.5], std=[0.5])\n",
       "           )"
      ]
     },
     "execution_count": 10,
     "metadata": {},
     "output_type": "execute_result"
    }
   ],
   "source": [
    "training.training_data"
   ]
  },
  {
   "cell_type": "code",
   "execution_count": 11,
   "metadata": {},
   "outputs": [
    {
     "data": {
      "text/plain": [
       "Dataset ImageFolder\n",
       "    Number of datapoints: 3000\n",
       "    Root location: artifacts\\data_ingestion\\seg_test\\seg_test\n",
       "    StandardTransform\n",
       "Transform: Compose(\n",
       "               Resize(size=(150, 150), interpolation=bilinear, max_size=None, antialias=warn)\n",
       "               ToTensor()\n",
       "               Normalize(mean=[0.5], std=[0.5])\n",
       "           )"
      ]
     },
     "execution_count": 11,
     "metadata": {},
     "output_type": "execute_result"
    }
   ],
   "source": [
    "training.test_data"
   ]
  },
  {
   "cell_type": "code",
   "execution_count": 12,
   "metadata": {},
   "outputs": [],
   "source": [
    "training.class_finder()"
   ]
  },
  {
   "cell_type": "code",
   "execution_count": 13,
   "metadata": {},
   "outputs": [],
   "source": [
    "training.dataloaders()"
   ]
  },
  {
   "cell_type": "code",
   "execution_count": 14,
   "metadata": {},
   "outputs": [],
   "source": [
    "training.dataloaders()"
   ]
  },
  {
   "cell_type": "code",
   "execution_count": 17,
   "metadata": {},
   "outputs": [
    {
     "data": {
      "text/plain": [
       "<torch.utils.data.dataloader.DataLoader at 0x2aca9dea8d0>"
      ]
     },
     "execution_count": 17,
     "metadata": {},
     "output_type": "execute_result"
    }
   ],
   "source": [
    "training.train_dataloader"
   ]
  },
  {
   "cell_type": "code",
   "execution_count": 18,
   "metadata": {},
   "outputs": [
    {
     "data": {
      "text/plain": [
       "<torch.utils.data.dataloader.DataLoader at 0x2aca9e1e2d0>"
      ]
     },
     "execution_count": 18,
     "metadata": {},
     "output_type": "execute_result"
    }
   ],
   "source": [
    "training.valid_dataloader"
   ]
  },
  {
   "cell_type": "code",
   "execution_count": 19,
   "metadata": {},
   "outputs": [
    {
     "data": {
      "text/plain": [
       "14034"
      ]
     },
     "execution_count": 19,
     "metadata": {},
     "output_type": "execute_result"
    }
   ],
   "source": [
    "training.number_train"
   ]
  },
  {
   "cell_type": "code",
   "execution_count": 22,
   "metadata": {},
   "outputs": [
    {
     "name": "stdout",
     "output_type": "stream",
     "text": [
      "[Epoch 1/1]: train-loss = 1.443819 | train-acc = 0.459 | val-loss = 0.019042 | val-acc = 0.610\n"
     ]
    },
    {
     "data": {
      "text/plain": [
       "([1.4438191619593288], [0.019041762902186468])"
      ]
     },
     "execution_count": 22,
     "metadata": {},
     "output_type": "execute_result"
    }
   ],
   "source": [
    "training.train_model()"
   ]
  },
  {
   "cell_type": "code",
   "execution_count": 23,
   "metadata": {},
   "outputs": [
    {
     "data": {
      "text/plain": [
       "[1.4438191619593288]"
      ]
     },
     "execution_count": 23,
     "metadata": {},
     "output_type": "execute_result"
    }
   ],
   "source": [
    "training.train_costs"
   ]
  },
  {
   "cell_type": "code",
   "execution_count": 24,
   "metadata": {},
   "outputs": [
    {
     "data": {
      "text/plain": [
       "[0.019041762902186468]"
      ]
     },
     "execution_count": 24,
     "metadata": {},
     "output_type": "execute_result"
    }
   ],
   "source": [
    "training.val_costs"
   ]
  },
  {
   "cell_type": "code",
   "execution_count": 15,
   "metadata": {},
   "outputs": [
    {
     "data": {
      "text/plain": [
       "TrainingConfig(root_dir=WindowsPath('artifacts/training'), trained_model_path=WindowsPath('artifacts/training/trained_model.pt'), resnet_model_path=WindowsPath('artifacts/prepare_resnet_model/resnet_model.pt'), training_data=WindowsPath('artifacts/data_ingestion/seg_train/seg_train'), test_data=WindowsPath('artifacts/data_ingestion/seg_test/seg_test'), params_epochs=1, params_batch_size=16, params_is_augmentation=True, params_image_size=BoxList([150, 150, 3]))"
      ]
     },
     "execution_count": 15,
     "metadata": {},
     "output_type": "execute_result"
    }
   ],
   "source": [
    "training_config"
   ]
  },
  {
   "cell_type": "code",
   "execution_count": 16,
   "metadata": {},
   "outputs": [],
   "source": [
    "training.get_resnet_model()"
   ]
  },
  {
   "cell_type": "code",
   "execution_count": null,
   "metadata": {},
   "outputs": [],
   "source": [
    "mdl=training.model"
   ]
  },
  {
   "cell_type": "code",
   "execution_count": null,
   "metadata": {},
   "outputs": [],
   "source": [
    "training.train_valid_generator()"
   ]
  },
  {
   "cell_type": "code",
   "execution_count": null,
   "metadata": {},
   "outputs": [],
   "source": [
    "training.training_data"
   ]
  },
  {
   "cell_type": "code",
   "execution_count": null,
   "metadata": {},
   "outputs": [],
   "source": [
    "training.test_data"
   ]
  },
  {
   "cell_type": "code",
   "execution_count": null,
   "metadata": {},
   "outputs": [],
   "source": [
    "training.class_finder()"
   ]
  },
  {
   "cell_type": "code",
   "execution_count": null,
   "metadata": {},
   "outputs": [],
   "source": [
    "cls=training.classes"
   ]
  },
  {
   "cell_type": "code",
   "execution_count": null,
   "metadata": {},
   "outputs": [],
   "source": [
    "inx=training.class_to_inx"
   ]
  },
  {
   "cell_type": "code",
   "execution_count": null,
   "metadata": {},
   "outputs": [],
   "source": [
    "train_data_custom = training.ImageFolderCustom(target_dir=training.config.training_data, \n",
    "                                      transform=transforms.Compose([\n",
    "        transforms.Resize(size=(150 , 150)) ,\n",
    "        transforms.RandomCrop(size=(150,150)),  \n",
    "        transforms.ToTensor(),\n",
    "        transforms.Normalize(mean=[0.5], std=[0.5])]),classes=cls,ctoinx=inx)\n",
    "test_data_custom = training.ImageFolderCustom(target_dir= training.config.test_data, \n",
    "                                     transform=transforms.Compose([\n",
    "        transforms.Resize((150, 150)), \n",
    "        transforms.ToTensor(),\n",
    "        transforms.Normalize(mean=[0.5], std=[0.5])]),classes=cls,ctoinx=inx)\n",
    "train_data_custom, test_data_custom"
   ]
  },
  {
   "cell_type": "code",
   "execution_count": null,
   "metadata": {},
   "outputs": [],
   "source": [
    "len(train_data_custom)"
   ]
  },
  {
   "cell_type": "code",
   "execution_count": null,
   "metadata": {},
   "outputs": [],
   "source": [
    "len(training.training_data)"
   ]
  },
  {
   "cell_type": "code",
   "execution_count": null,
   "metadata": {},
   "outputs": [],
   "source": [
    "type(mdl)"
   ]
  },
  {
   "cell_type": "code",
   "execution_count": null,
   "metadata": {},
   "outputs": [],
   "source": [
    "mdl=mdl.to(torch.device('cuda'))"
   ]
  },
  {
   "cell_type": "code",
   "execution_count": null,
   "metadata": {},
   "outputs": [],
   "source": [
    "summary(mdl,(3,150,150),batch_size=32)"
   ]
  },
  {
   "cell_type": "code",
   "execution_count": null,
   "metadata": {},
   "outputs": [],
   "source": [
    "try:\n",
    "    config = ConfigurationManager()\n",
    "    training_config = config.get_training_config()\n",
    "    training = Training(config=training_config)\n",
    "    training.get_resnet_model()\n",
    "    training.train_valid_generator()\n",
    "    training.class_finder()\n",
    "    training.dataloaders()\n",
    "    training.train_model()\n",
    "except Exception as e:\n",
    "    raise e\n",
    "\n"
   ]
  }
 ],
 "metadata": {
  "kernelspec": {
   "display_name": "Python 3",
   "language": "python",
   "name": "python3"
  },
  "language_info": {
   "codemirror_mode": {
    "name": "ipython",
    "version": 3
   },
   "file_extension": ".py",
   "mimetype": "text/x-python",
   "name": "python",
   "nbconvert_exporter": "python",
   "pygments_lexer": "ipython3",
   "version": "3.11.9"
  }
 },
 "nbformat": 4,
 "nbformat_minor": 2
}
